{
 "cells": [
  {
   "cell_type": "markdown",
   "metadata": {},
   "source": [
    "# Dynamic Programming"
   ]
  },
  {
   "cell_type": "markdown",
   "metadata": {},
   "source": [
    "##  Q.1. Discrete MDP model"
   ]
  },
  {
   "cell_type": "code",
   "execution_count": 1,
   "metadata": {},
   "outputs": [],
   "source": [
    "import numpy as np\n",
    "from matplotlib import pyplot as plt\n",
    "%matplotlib inline"
   ]
  },
  {
   "cell_type": "code",
   "execution_count": 2,
   "metadata": {},
   "outputs": [],
   "source": [
    "class MDP:\n",
    "    def __init__(self,epsilon,gamma):\n",
    "        self.epsilon = epsilon\n",
    "        self.gamma = gamma\n",
    "        \n",
    "        \n",
    "    def proba_matrix_eval(self,proba_matrix,policy):\n",
    "        proba_matrix_ = []\n",
    "        for i,action in enumerate(policy):\n",
    "            proba_matrix_.append(list(np.transpose(proba_matrix[i])[action]))\n",
    "        return np.array(proba_matrix_)\n",
    "\n",
    "    def reward_matrix_eval(self,reward_matrix,policy):\n",
    "        reward_matrix_ = []\n",
    "        for i,action in enumerate(policy):\n",
    "            reward_matrix_.append(reward_matrix[i][action])\n",
    "        return np.array(reward_matrix_)\n",
    "    \n",
    "    \n",
    "    def fit_value(self,proba_matrix,reward_matrix):\n",
    "        \"\"\"\n",
    "        Parameters:\n",
    "        ----------\n",
    "        proba_matrix : shape = (n_states,n_states,n_actions) contains the transition probabilities\n",
    "        reward_matrix : shape = (n_states,n_actions) contains the rewards\n",
    "        \"\"\"\n",
    "        #We initialize the value function of dimension 3\n",
    "        V = np.random.randn(3,1)\n",
    "        V_old = 10*V\n",
    "        \n",
    "        iter_ = 0\n",
    "        \n",
    "        V_values = []\n",
    "        \n",
    "        while np.linalg.norm(V_old - V,ord = np.inf) > self.epsilon:\n",
    "            V_old = V\n",
    "            \n",
    "            V = np.array([np.max([reward_matrix[i][k] + self.gamma * np.sum([proba_matrix[i][j][k]*V[j] for j in range(V.shape[0])])\\\n",
    "                       for k in range(reward_matrix.shape[1])]) for i in range(V.shape[0])])\n",
    "            \n",
    "            V_values.append(V)\n",
    "            \n",
    "            iter_ += 1\n",
    "            \n",
    "        print('Number of iterations is ',iter_)\n",
    "        print('Max number of iterations is ',np.log(np.max(reward_matrix)/self.epsilon)/np.log(1/self.gamma))\n",
    "        \n",
    "        best_policy = [np.argmax([reward_matrix[i][k] + self.gamma * np.sum([proba_matrix[i][j][k]*V[j] for j in range(V.shape[0])])\\\n",
    "                               for k in range(reward_matrix.shape[1])]) for i in range(V.shape[0])]\n",
    "        \n",
    "        #Now we compute V*\n",
    "        policy = np.array([1,2,1])\n",
    "        proba_matrix_ = self.proba_matrix_eval(proba_matrix,policy)\n",
    "        reward_matrix_ = self.reward_matrix_eval(reward_matrix,policy)\n",
    "            \n",
    "        best_value = np.linalg.inv(np.identity(proba_matrix_.shape[0]) - self.gamma*proba_matrix_).dot(reward_matrix_)\n",
    "        \n",
    "        return best_policy,best_value,V_values\n",
    "    \n",
    "    \n",
    "    def fit_policy(self,proba_matrix,reward_matrix):\n",
    "        \"\"\"\n",
    "        Parameters:\n",
    "        ----------\n",
    "        proba_matrix : shape = (n_states,n_states,n_actions) contains the transition probabilities\n",
    "        reward_matrix : shape = (n_states,n_actions) contains the rewards\n",
    "        \"\"\"\n",
    "        #We initialize the policy\n",
    "        policy = np.array([1,1,2])\n",
    "        \n",
    "        V = np.random.randn(3,1)\n",
    "        V_old = 10*V\n",
    "        \n",
    "        V_values = []\n",
    "        \n",
    "        iter_ = 0\n",
    "        \n",
    "        while np.linalg.norm(V_old - V) != 0:\n",
    "            \n",
    "            V_old = V\n",
    "            \n",
    "            proba_matrix_ = self.proba_matrix_eval(proba_matrix,policy)\n",
    "            reward_matrix_ = self.reward_matrix_eval(reward_matrix,policy)\n",
    "            \n",
    "            V = np.linalg.inv(np.identity(proba_matrix_.shape[0]) - self.gamma*proba_matrix_).dot(reward_matrix_)\n",
    "            \n",
    "            V_values.append(V)\n",
    "            \n",
    "            policy = [np.argmax([reward_matrix[i][k] + self.gamma * np.sum([proba_matrix[i][j][k]*V[j] for j in range(V.shape[0])])\\\n",
    "                               for k in range(reward_matrix.shape[1])]) for i in range(V.shape[0])]\n",
    "            \n",
    "            iter_ += 1\n",
    "        \n",
    "        print('Number of iterations is ',iter_)   \n",
    "        \n",
    "        return policy,V,V_values"
   ]
  },
  {
   "cell_type": "code",
   "execution_count": 3,
   "metadata": {},
   "outputs": [],
   "source": [
    "proba_matrix = np.zeros((3,3,3))\n",
    "#Now we fill the matrix\n",
    "\n",
    "#s0\n",
    "proba_matrix[0][1][0] = 0.45\n",
    "proba_matrix[0][0][0] = 0.55\n",
    "\n",
    "proba_matrix[0][0][1] = 0.3\n",
    "proba_matrix[0][1][1] = 0.7\n",
    "\n",
    "proba_matrix[0][0][2] = 1\n",
    "\n",
    "#s1\n",
    "proba_matrix[1][0][0] = 1\n",
    "\n",
    "proba_matrix[1][1][1] = 0.4\n",
    "proba_matrix[1][2][1] = 0.6\n",
    "\n",
    "proba_matrix[1][1][2] = 1\n",
    "\n",
    "#s2\n",
    "proba_matrix[2][1][0] = 1\n",
    "\n",
    "proba_matrix[2][2][1] = 0.4\n",
    "proba_matrix[2][1][1] = 0.6\n",
    "\n",
    "proba_matrix[2][2][2] = 1"
   ]
  },
  {
   "cell_type": "code",
   "execution_count": 4,
   "metadata": {},
   "outputs": [],
   "source": [
    "reward_matrix = np.zeros((3,3))\n",
    "\n",
    "reward_matrix[0][2] = 5/100\n",
    "\n",
    "reward_matrix[1][2] = 1\n",
    "\n",
    "reward_matrix[2][1] = 1\n",
    "reward_matrix[2][2] = 9/10"
   ]
  },
  {
   "cell_type": "code",
   "execution_count": 7,
   "metadata": {},
   "outputs": [],
   "source": [
    "import time"
   ]
  },
  {
   "cell_type": "code",
   "execution_count": 10,
   "metadata": {},
   "outputs": [
    {
     "name": "stdout",
     "output_type": "stream",
     "text": [
      "Number of iterations is  45\n",
      "Max number of iterations is  44.89056748035493\n",
      "The best policy is  [1, 2, 1]\n",
      "The execution took 0.010998 seconds\n"
     ]
    }
   ],
   "source": [
    "MDP_ = MDP(epsilon = 10e-2,gamma = 0.95)\n",
    "t1 = time.time()\n",
    "best_policy,best_value,V_values = MDP_.fit_value(proba_matrix,reward_matrix)\n",
    "print('The best policy is ',best_policy)\n",
    "print('The execution took %f seconds'%(time.time() - t1))"
   ]
  },
  {
   "cell_type": "code",
   "execution_count": 85,
   "metadata": {},
   "outputs": [
    {
     "data": {
      "image/png": "[encoded data removed]",
      "text/plain": [
       "<matplotlib.figure.Figure at 0x1b47046e898>"
      ]
     },
     "metadata": {},
     "output_type": "display_data"
    }
   ],
   "source": [
    "y = [np.linalg.norm(V_values[i] - best_value,ord = np.inf) for i in range(len(V_values))]\n",
    "x = list(range(len(V_values)))\n",
    "\n",
    "plt.scatter(x,y)\n",
    "plt.title('Evolution of ||V_k - V*||')\n",
    "plt.xlabel('Number of iterations')\n",
    "plt.show()"
   ]
  },
  {
   "cell_type": "markdown",
   "metadata": {},
   "source": [
    "## Q.2. Policy iteration"
   ]
  },
  {
   "cell_type": "code",
   "execution_count": 11,
   "metadata": {},
   "outputs": [
    {
     "name": "stdout",
     "output_type": "stream",
     "text": [
      "Number of iterations is  4\n",
      "The execution took 0.000999 seconds\n"
     ]
    }
   ],
   "source": [
    "MDP_ = MDP(epsilon = 10e-2,gamma = 0.95)\n",
    "t1 = time.time()\n",
    "best_policy2,best_value2,V_values2 = MDP_.fit_policy(proba_matrix,reward_matrix)\n",
    "print('The execution took %f seconds'%(time.time() - t1))"
   ]
  },
  {
   "cell_type": "code",
   "execution_count": 79,
   "metadata": {},
   "outputs": [
    {
     "data": {
      "text/plain": [
       "[1, 2, 1]"
      ]
     },
     "execution_count": 79,
     "metadata": {},
     "output_type": "execute_result"
    }
   ],
   "source": [
    "best_policy2"
   ]
  },
  {
   "cell_type": "code",
   "execution_count": 80,
   "metadata": {},
   "outputs": [
    {
     "data": {
      "image/png": "[encoded data removed]",
      "text/plain": [
       "<matplotlib.figure.Figure at 0x1b47046e550>"
      ]
     },
     "metadata": {},
     "output_type": "display_data"
    }
   ],
   "source": [
    "y = [np.linalg.norm(V_values2[i] - best_value2,ord = np.inf) for i in range(len(V_values2))]\n",
    "x = list(range(len(V_values2)))\n",
    "\n",
    "plt.scatter(x,y)\n",
    "plt.title('Evolution of ||V_k - V*||')\n",
    "plt.xlabel('Number of iterations')\n",
    "plt.show()"
   ]
  },
  {
   "cell_type": "markdown",
   "metadata": {},
   "source": [
    "The value iteration (VI) method needs more iterations to converge than policy iteration (PI) but each iteration of VI takes less time than an iteration of PI.\n",
    "\n",
    "Eventually, we find that PI takes 0.000999 seconds while VI takes 0.010998 seconds. PI is then faster than VI.\n",
    "\n",
    "The difference between both methods is that the VI method will improve the value function until the algorithm converges while PI method will improve the policy, and since the agent only cares about the policy, PI converges often before VI. "
   ]
  },
  {
   "cell_type": "markdown",
   "metadata": {
    "collapsed": true
   },
   "source": [
    "# Reinforcement learning"
   ]
  },
  {
   "cell_type": "code",
   "execution_count": 1,
   "metadata": {},
   "outputs": [],
   "source": [
    "import os\n",
    "os.chdir('C:/Users/Idriss/Desktop/3A/MVA/RL/TPs/TP1/scripts')"
   ]
  },
  {
   "cell_type": "code",
   "execution_count": 2,
   "metadata": {},
   "outputs": [],
   "source": [
    "from gridworld import GridWorld1\n",
    "import gridrender as gui\n",
    "import random\n",
    "import numpy as np\n",
    "import time\n",
    "from matplotlib import pyplot as plt\n",
    "\n",
    "env = GridWorld1"
   ]
  },
  {
   "cell_type": "markdown",
   "metadata": {},
   "source": [
    "## Question 4"
   ]
  },
  {
   "cell_type": "code",
   "execution_count": 9,
   "metadata": {},
   "outputs": [],
   "source": [
    "\"\"\"\n",
    "mu_0 estimation\n",
    "\"\"\"\n",
    "def estimate_distribution(n_states,n_iter):\n",
    "    mu = {0:0,1:0,2:0,3:0,4:0,5:0,6:0,7:0,8:0,9:0,10:0}\n",
    "    \n",
    "    for _ in range(n_iter):\n",
    "        state = env.reset()\n",
    "        mu[state] += 1\n",
    "        \n",
    "    for i in range(n_states + 1):\n",
    "        mu[i] /= n_iter\n",
    "        \n",
    "    return mu\n",
    "\n",
    "mu = estimate_distribution(10,5000)\n",
    "\n",
    "\n",
    "\"\"\"\n",
    "Monte-Carlo estimation\n",
    "\"\"\"\n",
    "\n",
    "v_q4 = [0.87691855, 0.92820033, 0.98817903, 0.00000000, 0.67106071, -0.99447514, 0.00000000, -0.82847001, -0.87691855,\n",
    "        -0.93358351, -0.99447514]\n",
    "\n",
    "\n",
    "def J_estimation(n_states,gamma,Ns):\n",
    "    J_n = 0\n",
    "    J_  = 0\n",
    "    \n",
    "    T_max = int(-np.log(10e-2)/(1-gamma)) # delta = 10e-2 , Rmax = 1\n",
    "        \n",
    "    for s in range(n_states): \n",
    "        \n",
    "        final_sum = 0\n",
    "        \n",
    "        for m in range(Ns):\n",
    "            \n",
    "            state = s\n",
    "            \n",
    "            term = False\n",
    "            \n",
    "            t = 0\n",
    "            \n",
    "            interm_sum = 0\n",
    "            \n",
    "            while not term or t < T_max :\n",
    "                \n",
    "                    if 0 in env.state_actions[state]:\n",
    "                        action = 0\n",
    "                    else:\n",
    "                        action = 3\n",
    "                    nexts, reward, term = env.step(state,action)\n",
    "    \n",
    "                    interm_sum += gamma**(t)*reward\n",
    "                    \n",
    "                    state = nexts\n",
    "                    \n",
    "                    t += 1  \n",
    "                    \n",
    "            final_sum += interm_sum\n",
    "            \n",
    "        V_Ns = final_sum/ Ns\n",
    "        \n",
    "        J_n  += mu[s]*V_Ns\n",
    "        J_   += mu[s]*v_q4[s]\n",
    "        \n",
    "    return J_n,J_\n",
    "    \n",
    "\n",
    "n_states = 11            \n",
    "gamma = 0.95 #Discount factor\n",
    "N_values = np.array([random.randint(200,3000) for _ in range(20)])\n",
    "J_n_values = []\n",
    "\n",
    "for Ns in N_values:\n",
    "    J_n,J_ = J_estimation(n_states,gamma,Ns)\n",
    "    J_n_values.append(J_n)\n",
    "       \n",
    "J_diff = [J_n_values[i] - J_ for i in range(len(J_n_values))]"
   ]
  },
  {
   "cell_type": "code",
   "execution_count": 10,
   "metadata": {},
   "outputs": [
    {
     "data": {
      "image/png": "[encoded data removed]",
      "text/plain": [
       "<Figure size 432x288 with 1 Axes>"
      ]
     },
     "metadata": {
      "needs_background": "light"
     },
     "output_type": "display_data"
    }
   ],
   "source": [
    "plt.scatter(N_values,J_diff) \n",
    "plt.title('Evolution of  J_n - J_pi ')\n",
    "plt.xlabel('n')\n",
    "plt.show() "
   ]
  },
  {
   "cell_type": "markdown",
   "metadata": {},
   "source": [
    "## Question 5"
   ]
  },
  {
   "cell_type": "code",
   "execution_count": 27,
   "metadata": {},
   "outputs": [],
   "source": [
    "v_opt = [0.87691855, 0.92820033, 0.98817903, 0.00000000, 0.82369294, 0.92820033, 0.00000000, 0.77818504, 0.82369294,\n",
    "         0.87691855, 0.82847001]\n",
    "\n",
    "def Q_learning(n_states,n_actions,n_iter,epsilon,gamma,T_max,v_opt):\n",
    "    \n",
    "    Q = np.zeros((n_states,n_actions))\n",
    "    for state in range(n_states):\n",
    "        possible_actions = env.state_actions[state]\n",
    "        impossible_actions = list(set([0,1,2,3]).difference(possible_actions))\n",
    "        Q[state][impossible_actions] = -np.inf\n",
    "    \n",
    "    Visits = np.zeros((n_states,n_actions))\n",
    "    \n",
    "    norm_diff = []\n",
    "    rewards = []\n",
    "    reward_history = 0\n",
    "    \n",
    "    for i in range(n_iter):\n",
    "        \n",
    "        state = env.reset()\n",
    "        t = 0\n",
    "        term = False\n",
    "        \n",
    "        while t < T_max or not term :\n",
    "            \n",
    "            if random.uniform(0,1) > epsilon:\n",
    "                action = np.argmax(Q[state])\n",
    "            else:\n",
    "                action = np.random.choice(env.state_actions[state])\n",
    "                \n",
    "            nexts, reward, term = env.step(state,action)\n",
    "                 \n",
    "            delta = reward + gamma*np.max(Q[nexts]) - Q[state,action]\n",
    "            Q[state,action] += 1/(Visits[state,action]+1)*delta\n",
    "            \n",
    "            Visits[state,action] += 1\n",
    "            \n",
    "            state = nexts\n",
    "            t += 1  \n",
    "            reward_history += reward\n",
    "        norm_diff.append(np.linalg.norm(np.max(Q,axis=1) - v_opt,ord = np.inf))\n",
    "        rewards.append(reward_history)\n",
    "            \n",
    "    best_policy = np.argmax(Q,axis = 1)\n",
    "    best_value = np.max(Q,axis = 1)\n",
    "    \n",
    "    return best_policy,best_value,norm_diff,rewards"
   ]
  },
  {
   "cell_type": "code",
   "execution_count": 28,
   "metadata": {},
   "outputs": [],
   "source": [
    "n_states = 11\n",
    "n_actions = 4\n",
    "\n",
    "gamma = 0.95\n",
    "epsilon = 10e-2\n",
    "\n",
    "T_max = int(-np.log(10e-2)/(1-gamma)) # delta = 10e-2 , Rmax = 1\n",
    "n_iter = 3000\n",
    "\n",
    "best_policy,best_value,norm_diff,rewards = Q_learning(n_states,n_actions,n_iter,epsilon,gamma,T_max,v_opt)"
   ]
  },
  {
   "cell_type": "markdown",
   "metadata": {},
   "source": [
    "### Description of the Q-learning parameters"
   ]
  },
  {
   "cell_type": "markdown",
   "metadata": {},
   "source": [
    "**n_states** : Number of states in our environment\n",
    "\n",
    "**n_actions** : Number of possible actions {up,down,right,left}\n",
    "\n",
    "**gamma** : Discount factor\n",
    "\n",
    "**epsilon** : Parameter of the epsilon-greedy optimization. Set to 10e-1 in order find a tradeoff between exploration & exploitation.\n",
    "\n",
    "**T_max** : Maximal number of steps in a single episode\n",
    "\n",
    "**n_iter** : Number of episodes\n",
    "\n",
    "**v_opt** : Optimal value (given)\n",
    "\n",
    "The learning rate alpha is set to be : \n",
    "$$\\alpha(s,a) = \\frac{1}{1+Visits(s,a)}$$\n",
    "\n",
    "It satisfies the Robbins-Monro conditions"
   ]
  },
  {
   "cell_type": "markdown",
   "metadata": {},
   "source": [
    "### Evaluation"
   ]
  },
  {
   "cell_type": "code",
   "execution_count": 18,
   "metadata": {},
   "outputs": [
    {
     "data": {
      "image/png": "[encoded data removed]",
      "text/plain": [
       "<Figure size 432x288 with 1 Axes>"
      ]
     },
     "metadata": {
      "needs_background": "light"
     },
     "output_type": "display_data"
    }
   ],
   "source": [
    "plt.plot(list(range(n_iter)),norm_diff)\n",
    "plt.xlabel('Episodes')\n",
    "plt.ylabel('|| V* - V_pi||')\n",
    "plt.show()"
   ]
  },
  {
   "cell_type": "code",
   "execution_count": 29,
   "metadata": {},
   "outputs": [
    {
     "data": {
      "image/png": "[encoded data removed]",
      "text/plain": [
       "<Figure size 432x288 with 1 Axes>"
      ]
     },
     "metadata": {
      "needs_background": "light"
     },
     "output_type": "display_data"
    }
   ],
   "source": [
    "plt.plot(list(range(n_iter)),rewards)\n",
    "plt.xlabel('Episodes')\n",
    "plt.ylabel('Accumulative reward')\n",
    "plt.show()"
   ]
  },
  {
   "cell_type": "markdown",
   "metadata": {},
   "source": [
    "The negativity is coming from the fact that the reward for the state 6 is -1."
   ]
  },
  {
   "cell_type": "markdown",
   "metadata": {},
   "source": [
    "## Question 6"
   ]
  },
  {
   "cell_type": "markdown",
   "metadata": {},
   "source": [
    "The optimal policy **is not affected** by the change in the initial distribution because it , by definition, achieves the best return starting from any initial state. "
   ]
  }
 ],
 "metadata": {
  "kernelspec": {
   "display_name": "Python 3",
   "language": "python",
   "name": "python3"
  },
  "language_info": {
   "codemirror_mode": {
    "name": "ipython",
    "version": 3
   },
   "file_extension": ".py",
   "mimetype": "text/x-python",
   "name": "python",
   "nbconvert_exporter": "python",
   "pygments_lexer": "ipython3",
   "version": "3.7.0"
  }
 },
 "nbformat": 4,
 "nbformat_minor": 1
}
